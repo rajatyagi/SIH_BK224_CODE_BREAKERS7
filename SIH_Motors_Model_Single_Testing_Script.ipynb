{
 "cells": [
  {
   "cell_type": "markdown",
   "metadata": {},
   "source": [
    "# Installing Libraries"
   ]
  },
  {
   "cell_type": "code",
   "execution_count": 1,
   "metadata": {},
   "outputs": [],
   "source": [
    "#!pip install pycaret\n",
    "import pandas as pd\n",
    "from pycaret.regression import *"
   ]
  },
  {
   "cell_type": "markdown",
   "metadata": {},
   "source": [
    "# Getting Dataset and Model"
   ]
  },
  {
   "cell_type": "code",
   "execution_count": 2,
   "metadata": {},
   "outputs": [
    {
     "name": "stdout",
     "output_type": "stream",
     "text": [
      "Transformation Pipeline and Model Sucessfully Loaded\n",
      "[13:33:35] WARNING: C:/Jenkins/workspace/xgboost-win64_release_0.90/src/objective/regression_obj.cu:152: reg:linear is now deprecated in favor of reg:squarederror.\n",
      "3 Phase Voltage in Volts: \n",
      "3 Phase Current in Amps: \n",
      "Poles: \n",
      "Frequency in Hz: \n",
      "Power Factor: \n",
      "Temperature in Celcius: \n",
      "% Load: \n",
      "Angular Velocity in rad/sec: \n",
      "Motor Age in Yrs: \n"
     ]
    }
   ],
   "source": [
    "sih_model = load_model('./Model/sih_motor_xgboost_efficiency_regressor')\n",
    "pv1 = input(\"3 Phase Voltage in Volts: \")\n",
    "pi1 = input(\"3 Phase Current in Amps: \")\n",
    "po1 = input(\"Poles: \")\n",
    "f1 = input(\"Frequency in Hz: \")\n",
    "pf1 = input(\"Power Factor: \")\n",
    "t1 = input(\"Temperature in Celcius: \")\n",
    "l1 = input(\"% Load: \")\n",
    "w1 = input(\"Angular Velocity in rad/sec: \")\n",
    "a1 = input(\"Motor Age in Yrs: \")\n",
    "\n",
    "if len(pv1)==0:\n",
    "    pv1 = 425.041214\n",
    "if len(pi1)==0:\n",
    "    pi1 = 10.004947\n",
    "if len(po1)==0:\n",
    "    po1 = 3\n",
    "if len(f1)==0:\n",
    "    f1 = 50\n",
    "if len(pf1)==0:\n",
    "    pf1 = 0.650188\n",
    "if len(t1)==0:\n",
    "    t1 = 55\n",
    "if len(l1)==0:\n",
    "    l1 = 85\n",
    "if len(w1)==0:\n",
    "    w1 = 100\n",
    "if len(a1)==0:\n",
    "    a1 = 5\n",
    "    \n",
    "pv,pi,po,f,pf,t,l,w,a= [float(pv1)],[float(pi1)],[float(po1)],[float(f1)],[float(pf1)],[float(t1)],[float(l1)],[float(w1)],[float(a1)]\n",
    "df = pd.DataFrame(list(zip(pv,pi,po,f,pf,t,l,w,a)),columns = ['3 Phase Voltage in Volts','3 Phase Current in Amps','Poles','Frequency in Hz','Power Factor','Temperature in Celcius','% Load','Angular Velocity in rad/sec','Motor Age in Yrs'])"
   ]
  },
  {
   "cell_type": "markdown",
   "metadata": {},
   "source": [
    "# Prediction"
   ]
  },
  {
   "cell_type": "code",
   "execution_count": 3,
   "metadata": {},
   "outputs": [
    {
     "name": "stdout",
     "output_type": "stream",
     "text": [
      "Effeciency: 79.3939%\n",
      "Reliability: Highly Reliable\n",
      "Life Cyle: 6 Years\n",
      "Warnings: No Warnings\n",
      "Suggestion: Efficiency can be increased by decreasing current to 9.5047 Amps or \n",
      "\tcorrecting the power factor to 0.585. \n",
      "\n"
     ]
    }
   ],
   "source": [
    "sd_v,sd_i,sd_t,sd_w,sd_age,a_v,a_i,a_t,a_w,a_age,a_pf,a_e = 14.450315,1.184078,14.724061,11.850687,3,425.041214,10.004947,55.033790,99.990990,5,0.65,80.63        \n",
    "\n",
    "def warnings(pv1,pi1,t1,pf1,e):\n",
    "    outstr = \"\"\n",
    "    if pv1 > a_v + 1.2*sd_v : outstr += \"High voltage ,\"\n",
    "    if t1 > a_t + 1.2*sd_t : outstr += \"Overheating ,\"\n",
    "    if pv1*pi1*pf1*e/100 > 1.5*a_v*a_i*a_pf*a_e/100 : outstr += \"Overloading ,\"\n",
    "    if len(outstr)==0 : outstr += \"No Warnings\"\n",
    "    return outstr\n",
    "    \n",
    "    \n",
    "def suggestions(pi1,t1,pf1,e):\n",
    "    if  e >= 85.56 and t1 < 60:\n",
    "        return \"The asset is running efficiently any changes may make the asset less reliable. \\n\"\n",
    "    elif e >= 85.56 and t1 >= 60:\n",
    "        return \"Asset cooling to\" + str(t1*0.8) + \"'C will give better efficiency. \\n\"\n",
    "    else :\n",
    "        if t1 < 60 and (pi1 != 8 or pf1 != 0.5):\n",
    "            return \"Efficiency can be increased by decreasing current to \" + str(round((max(pi1*0.95,8)),4)) + \" Amps or \\n\\tcorrecting the power factor to \" + str(round(max(pf1*0.9,0.5),3)) + \". \\n\"\n",
    "        elif t1 >= 60 and (pi1 != 8 or pf1 != 0.5 or t1 != 60):\n",
    "            return \"Efficiency can be increased by decreasing current to \" + str(round((max(pi1*0.95,8)),4)) + \" Amps, \\n\\tcorrecting the power factor to \" + str(round(max(pf1*0.9,0.5),3)) + \" or \\n\\treducing the temperature to \" + str(round(t1*0.8,2)) + \" 'C. \\n\"\n",
    "        else : return \"The asset is running efficiently any changes may make the asset less reliable. \\n\"\n",
    "\n",
    "def relia(pv1, pi1, t1, a1, w1):     \n",
    "    reliabilty = 5\n",
    "    if pv1 > a_v + 1.2*sd_v:\n",
    "        reliabilty -=1\n",
    "    if pi1 > a_i + 1.2*sd_i:\n",
    "        reliabilty -=1\n",
    "    if t1 > a_t + 1.2*sd_t:\n",
    "        reliabilty -=1\n",
    "    if w1 > a_w + 1.2*sd_w:\n",
    "        reliabilty -=1\n",
    "    if a1 > a_age + sd_age:\n",
    "        reliabilty -=1\n",
    "\n",
    "    if reliabilty == 5:\n",
    "        return 'Highly Reliable'\n",
    "    if reliabilty == 3 or reliabilty == 4:\n",
    "        return 'Moderately Reliable'\n",
    "    if reliabilty == 1 or reliabilty == 2:\n",
    "        return 'Less Reliable'\n",
    "    if reliabilty == 0:\n",
    "        return 'Not Reliable'\n",
    "\n",
    "pred_new = predict_model(sih_model,data=df)\n",
    "r = relia(pred_new['3 Phase Voltage in Volts'][0],pred_new['3 Phase Current in Amps'][0],pred_new['Temperature in Celcius'][0],pred_new['Motor Age in Yrs'][0],pred_new['Angular Velocity in rad/sec'][0])\n",
    "e = pred_new['Label'][0]\n",
    "c = 0\n",
    "ctr = round(50 - (3500/e),0)\n",
    "if ctr < 0 : ctr = 0\n",
    "c = abs(ctr)\n",
    "\n",
    "print(\"Effeciency: \"+str(e)+\"%\")\n",
    "print(\"Reliability: \"+str(r))\n",
    "print(\"Life Cyle: \"+str(int(c))+\" Years\")\n",
    "print(\"Warnings: \"+warnings(pred_new['3 Phase Voltage in Volts'][0],pred_new['3 Phase Current in Amps'][0],pred_new['Temperature in Celcius'][0],pred_new['Power Factor'][0],e))\n",
    "print(\"Suggestion: \"+suggestions(pred_new['3 Phase Current in Amps'][0],pred_new['Temperature in Celcius'][0],pred_new['Power Factor'][0],e))"
   ]
  }
 ],
 "metadata": {
  "kernelspec": {
   "display_name": "SIH",
   "language": "python",
   "name": "sih"
  },
  "language_info": {
   "codemirror_mode": {
    "name": "ipython",
    "version": 3
   },
   "file_extension": ".py",
   "mimetype": "text/x-python",
   "name": "python",
   "nbconvert_exporter": "python",
   "pygments_lexer": "ipython3",
   "version": "3.8.3"
  }
 },
 "nbformat": 4,
 "nbformat_minor": 4
}
