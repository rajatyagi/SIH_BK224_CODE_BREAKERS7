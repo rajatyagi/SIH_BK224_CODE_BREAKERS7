{
 "cells": [
  {
   "cell_type": "markdown",
   "metadata": {},
   "source": [
    "# Installing Libraries"
   ]
  },
  {
   "cell_type": "code",
   "execution_count": 1,
   "metadata": {},
   "outputs": [],
   "source": [
    "#!pip install pycaret\n",
    "import pandas as pd\n",
    "from pycaret.regression import *"
   ]
  },
  {
   "cell_type": "markdown",
   "metadata": {},
   "source": [
    "# Loading Dataset and Model"
   ]
  },
  {
   "cell_type": "code",
   "execution_count": 2,
   "metadata": {},
   "outputs": [
    {
     "name": "stdout",
     "output_type": "stream",
     "text": [
      "Transformation Pipeline and Model Sucessfully Loaded\n",
      "[00:21:49] WARNING: C:/Jenkins/workspace/xgboost-win64_release_0.90/src/objective/regression_obj.cu:152: reg:linear is now deprecated in favor of reg:squarederror.\n"
     ]
    }
   ],
   "source": [
    "test = pd.read_csv(\"./Dataset/Test Dataset.csv\")\n",
    "check = pd.read_csv(\"./Dataset/Actual Results of Test Dataset.csv\")\n",
    "sih_model = load_model('./Model/sih_motor_xgboost_efficiency_regressor')"
   ]
  },
  {
   "cell_type": "markdown",
   "metadata": {},
   "source": [
    "# Prediction"
   ]
  },
  {
   "cell_type": "code",
   "execution_count": 3,
   "metadata": {},
   "outputs": [],
   "source": [
    "def relia(pv1, pi1, t1, a1, w1): \n",
    "    \n",
    "    sd_v,sd_i,sd_t,sd_w,sd_age,a_v,a_i,a_t,a_w,a_age = 14.450315,1.184078,14.724061,11.850687,3,425.041214,10.004947,55.033790,99.990990,5        \n",
    "    \n",
    "    reliabilty = 5\n",
    "    if pv1 > a_v + 1.2*sd_v:\n",
    "        reliabilty -=1\n",
    "    if pi1 > a_i + 1.2*sd_i:\n",
    "        reliabilty -=1\n",
    "    if t1 > a_t + 1.2*sd_t:\n",
    "        reliabilty -=1\n",
    "    if w1 > a_w + 1.2*sd_w:\n",
    "        reliabilty -=1\n",
    "    if a1 > a_age + sd_age:\n",
    "        reliabilty -=1\n",
    "\n",
    "    if reliabilty == 5:\n",
    "        return 'Highly Reliable'\n",
    "    if reliabilty == 3 or reliabilty == 4:\n",
    "        return 'Moderately Reliable'\n",
    "    if reliabilty == 1 or reliabilty == 2:\n",
    "        return 'Less Reliable'\n",
    "    if reliabilty == 0:\n",
    "        return 'Not Reliable'\n",
    "\n",
    "pred_new = predict_model(sih_model,data=test)\n",
    "trained = test\n",
    "\n",
    "r,c=[],[]\n",
    "\n",
    "for i in range(pred_new.count()[1]):\n",
    "    r.append(relia(pred_new['3 Phase Voltage in Volts'][i],pred_new['3 Phase Current in Amps'][i],pred_new['Temperature in Celcius'][i],pred_new['Motor Age in Yrs'][i],pred_new['Angular Velocity in rad/sec'][i]))\n",
    "    e1 = pred_new['Label'][i]\n",
    "    ctr = round(50 - (3500/e1),0)\n",
    "    if ctr < 0 : ctr = 0\n",
    "    c.append(abs(ctr))\n",
    "\n",
    "trained['Reliability_Check'] = r\n",
    "trained['Life Cycle in Yrs_Check'] = c\n",
    "trained['Predicted Effeciency_Check'] = pred_new['Label']\n",
    "\n",
    "test.to_csv('./Dataset/Predicted Results of Test Dataset.csv',index=False)"
   ]
  }
 ],
 "metadata": {
  "kernelspec": {
   "display_name": "SIH",
   "language": "python",
   "name": "sih"
  },
  "language_info": {
   "codemirror_mode": {
    "name": "ipython",
    "version": 3
   },
   "file_extension": ".py",
   "mimetype": "text/x-python",
   "name": "python",
   "nbconvert_exporter": "python",
   "pygments_lexer": "ipython3",
   "version": "3.8.3"
  }
 },
 "nbformat": 4,
 "nbformat_minor": 4
}
